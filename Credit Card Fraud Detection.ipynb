{
 "cells": [
  {
   "cell_type": "code",
   "execution_count": 1,
   "metadata": {
    "execution": {
     "iopub.execute_input": "2022-12-30T18:21:23.197782Z",
     "iopub.status.busy": "2022-12-30T18:21:23.197313Z",
     "iopub.status.idle": "2022-12-30T18:21:23.203664Z",
     "shell.execute_reply": "2022-12-30T18:21:23.202460Z",
     "shell.execute_reply.started": "2022-12-30T18:21:23.197745Z"
    }
   },
   "outputs": [],
   "source": [
    "import pandas as pd\n",
    "import numpy as np\n",
    "import matplotlib.pyplot as plt"
   ]
  },
  {
   "cell_type": "code",
   "execution_count": 2,
   "metadata": {
    "execution": {
     "iopub.execute_input": "2022-12-30T18:21:23.206099Z",
     "iopub.status.busy": "2022-12-30T18:21:23.205784Z",
     "iopub.status.idle": "2022-12-30T18:21:27.814757Z",
     "shell.execute_reply": "2022-12-30T18:21:27.813435Z",
     "shell.execute_reply.started": "2022-12-30T18:21:23.206071Z"
    }
   },
   "outputs": [],
   "source": [
    "df = pd.read_csv('creditcard.csv')"
   ]
  },
  {
   "cell_type": "code",
   "execution_count": 3,
   "metadata": {
    "execution": {
     "iopub.execute_input": "2022-12-30T18:21:27.816704Z",
     "iopub.status.busy": "2022-12-30T18:21:27.816238Z",
     "iopub.status.idle": "2022-12-30T18:21:27.861314Z",
     "shell.execute_reply": "2022-12-30T18:21:27.860440Z",
     "shell.execute_reply.started": "2022-12-30T18:21:27.816654Z"
    }
   },
   "outputs": [
    {
     "data": {
      "text/html": [
       "<div>\n",
       "<style scoped>\n",
       "    .dataframe tbody tr th:only-of-type {\n",
       "        vertical-align: middle;\n",
       "    }\n",
       "\n",
       "    .dataframe tbody tr th {\n",
       "        vertical-align: top;\n",
       "    }\n",
       "\n",
       "    .dataframe thead th {\n",
       "        text-align: right;\n",
       "    }\n",
       "</style>\n",
       "<table border=\"1\" class=\"dataframe\">\n",
       "  <thead>\n",
       "    <tr style=\"text-align: right;\">\n",
       "      <th></th>\n",
       "      <th>Time</th>\n",
       "      <th>V1</th>\n",
       "      <th>V2</th>\n",
       "      <th>V3</th>\n",
       "      <th>V4</th>\n",
       "      <th>V5</th>\n",
       "      <th>V6</th>\n",
       "      <th>V7</th>\n",
       "      <th>V8</th>\n",
       "      <th>V9</th>\n",
       "      <th>...</th>\n",
       "      <th>V21</th>\n",
       "      <th>V22</th>\n",
       "      <th>V23</th>\n",
       "      <th>V24</th>\n",
       "      <th>V25</th>\n",
       "      <th>V26</th>\n",
       "      <th>V27</th>\n",
       "      <th>V28</th>\n",
       "      <th>Amount</th>\n",
       "      <th>Class</th>\n",
       "    </tr>\n",
       "  </thead>\n",
       "  <tbody>\n",
       "    <tr>\n",
       "      <th>0</th>\n",
       "      <td>0.0</td>\n",
       "      <td>-1.359807</td>\n",
       "      <td>-0.072781</td>\n",
       "      <td>2.536347</td>\n",
       "      <td>1.378155</td>\n",
       "      <td>-0.338321</td>\n",
       "      <td>0.462388</td>\n",
       "      <td>0.239599</td>\n",
       "      <td>0.098698</td>\n",
       "      <td>0.363787</td>\n",
       "      <td>...</td>\n",
       "      <td>-0.018307</td>\n",
       "      <td>0.277838</td>\n",
       "      <td>-0.110474</td>\n",
       "      <td>0.066928</td>\n",
       "      <td>0.128539</td>\n",
       "      <td>-0.189115</td>\n",
       "      <td>0.133558</td>\n",
       "      <td>-0.021053</td>\n",
       "      <td>149.62</td>\n",
       "      <td>0</td>\n",
       "    </tr>\n",
       "    <tr>\n",
       "      <th>1</th>\n",
       "      <td>0.0</td>\n",
       "      <td>1.191857</td>\n",
       "      <td>0.266151</td>\n",
       "      <td>0.166480</td>\n",
       "      <td>0.448154</td>\n",
       "      <td>0.060018</td>\n",
       "      <td>-0.082361</td>\n",
       "      <td>-0.078803</td>\n",
       "      <td>0.085102</td>\n",
       "      <td>-0.255425</td>\n",
       "      <td>...</td>\n",
       "      <td>-0.225775</td>\n",
       "      <td>-0.638672</td>\n",
       "      <td>0.101288</td>\n",
       "      <td>-0.339846</td>\n",
       "      <td>0.167170</td>\n",
       "      <td>0.125895</td>\n",
       "      <td>-0.008983</td>\n",
       "      <td>0.014724</td>\n",
       "      <td>2.69</td>\n",
       "      <td>0</td>\n",
       "    </tr>\n",
       "    <tr>\n",
       "      <th>2</th>\n",
       "      <td>1.0</td>\n",
       "      <td>-1.358354</td>\n",
       "      <td>-1.340163</td>\n",
       "      <td>1.773209</td>\n",
       "      <td>0.379780</td>\n",
       "      <td>-0.503198</td>\n",
       "      <td>1.800499</td>\n",
       "      <td>0.791461</td>\n",
       "      <td>0.247676</td>\n",
       "      <td>-1.514654</td>\n",
       "      <td>...</td>\n",
       "      <td>0.247998</td>\n",
       "      <td>0.771679</td>\n",
       "      <td>0.909412</td>\n",
       "      <td>-0.689281</td>\n",
       "      <td>-0.327642</td>\n",
       "      <td>-0.139097</td>\n",
       "      <td>-0.055353</td>\n",
       "      <td>-0.059752</td>\n",
       "      <td>378.66</td>\n",
       "      <td>0</td>\n",
       "    </tr>\n",
       "    <tr>\n",
       "      <th>3</th>\n",
       "      <td>1.0</td>\n",
       "      <td>-0.966272</td>\n",
       "      <td>-0.185226</td>\n",
       "      <td>1.792993</td>\n",
       "      <td>-0.863291</td>\n",
       "      <td>-0.010309</td>\n",
       "      <td>1.247203</td>\n",
       "      <td>0.237609</td>\n",
       "      <td>0.377436</td>\n",
       "      <td>-1.387024</td>\n",
       "      <td>...</td>\n",
       "      <td>-0.108300</td>\n",
       "      <td>0.005274</td>\n",
       "      <td>-0.190321</td>\n",
       "      <td>-1.175575</td>\n",
       "      <td>0.647376</td>\n",
       "      <td>-0.221929</td>\n",
       "      <td>0.062723</td>\n",
       "      <td>0.061458</td>\n",
       "      <td>123.50</td>\n",
       "      <td>0</td>\n",
       "    </tr>\n",
       "    <tr>\n",
       "      <th>4</th>\n",
       "      <td>2.0</td>\n",
       "      <td>-1.158233</td>\n",
       "      <td>0.877737</td>\n",
       "      <td>1.548718</td>\n",
       "      <td>0.403034</td>\n",
       "      <td>-0.407193</td>\n",
       "      <td>0.095921</td>\n",
       "      <td>0.592941</td>\n",
       "      <td>-0.270533</td>\n",
       "      <td>0.817739</td>\n",
       "      <td>...</td>\n",
       "      <td>-0.009431</td>\n",
       "      <td>0.798278</td>\n",
       "      <td>-0.137458</td>\n",
       "      <td>0.141267</td>\n",
       "      <td>-0.206010</td>\n",
       "      <td>0.502292</td>\n",
       "      <td>0.219422</td>\n",
       "      <td>0.215153</td>\n",
       "      <td>69.99</td>\n",
       "      <td>0</td>\n",
       "    </tr>\n",
       "  </tbody>\n",
       "</table>\n",
       "<p>5 rows × 31 columns</p>\n",
       "</div>"
      ],
      "text/plain": [
       "   Time        V1        V2        V3        V4        V5        V6        V7  \\\n",
       "0   0.0 -1.359807 -0.072781  2.536347  1.378155 -0.338321  0.462388  0.239599   \n",
       "1   0.0  1.191857  0.266151  0.166480  0.448154  0.060018 -0.082361 -0.078803   \n",
       "2   1.0 -1.358354 -1.340163  1.773209  0.379780 -0.503198  1.800499  0.791461   \n",
       "3   1.0 -0.966272 -0.185226  1.792993 -0.863291 -0.010309  1.247203  0.237609   \n",
       "4   2.0 -1.158233  0.877737  1.548718  0.403034 -0.407193  0.095921  0.592941   \n",
       "\n",
       "         V8        V9  ...       V21       V22       V23       V24       V25  \\\n",
       "0  0.098698  0.363787  ... -0.018307  0.277838 -0.110474  0.066928  0.128539   \n",
       "1  0.085102 -0.255425  ... -0.225775 -0.638672  0.101288 -0.339846  0.167170   \n",
       "2  0.247676 -1.514654  ...  0.247998  0.771679  0.909412 -0.689281 -0.327642   \n",
       "3  0.377436 -1.387024  ... -0.108300  0.005274 -0.190321 -1.175575  0.647376   \n",
       "4 -0.270533  0.817739  ... -0.009431  0.798278 -0.137458  0.141267 -0.206010   \n",
       "\n",
       "        V26       V27       V28  Amount  Class  \n",
       "0 -0.189115  0.133558 -0.021053  149.62      0  \n",
       "1  0.125895 -0.008983  0.014724    2.69      0  \n",
       "2 -0.139097 -0.055353 -0.059752  378.66      0  \n",
       "3 -0.221929  0.062723  0.061458  123.50      0  \n",
       "4  0.502292  0.219422  0.215153   69.99      0  \n",
       "\n",
       "[5 rows x 31 columns]"
      ]
     },
     "execution_count": 3,
     "metadata": {},
     "output_type": "execute_result"
    }
   ],
   "source": [
    "df.head()"
   ]
  },
  {
   "cell_type": "code",
   "execution_count": 4,
   "metadata": {
    "execution": {
     "iopub.execute_input": "2022-12-30T18:21:27.864710Z",
     "iopub.status.busy": "2022-12-30T18:21:27.863809Z",
     "iopub.status.idle": "2022-12-30T18:21:27.894765Z",
     "shell.execute_reply": "2022-12-30T18:21:27.893444Z",
     "shell.execute_reply.started": "2022-12-30T18:21:27.864665Z"
    }
   },
   "outputs": [
    {
     "data": {
      "text/plain": [
       "Time      0\n",
       "V1        0\n",
       "V2        0\n",
       "V3        0\n",
       "V4        0\n",
       "V5        0\n",
       "V6        0\n",
       "V7        0\n",
       "V8        0\n",
       "V9        0\n",
       "V10       0\n",
       "V11       0\n",
       "V12       0\n",
       "V13       0\n",
       "V14       0\n",
       "V15       0\n",
       "V16       0\n",
       "V17       0\n",
       "V18       0\n",
       "V19       0\n",
       "V20       0\n",
       "V21       0\n",
       "V22       0\n",
       "V23       0\n",
       "V24       0\n",
       "V25       0\n",
       "V26       0\n",
       "V27       0\n",
       "V28       0\n",
       "Amount    0\n",
       "Class     0\n",
       "dtype: int64"
      ]
     },
     "execution_count": 4,
     "metadata": {},
     "output_type": "execute_result"
    }
   ],
   "source": [
    "df.isnull().sum()\n",
    "#There are no null values present in dataset."
   ]
  },
  {
   "cell_type": "code",
   "execution_count": 5,
   "metadata": {
    "execution": {
     "iopub.execute_input": "2022-12-30T18:21:27.896484Z",
     "iopub.status.busy": "2022-12-30T18:21:27.896150Z",
     "iopub.status.idle": "2022-12-30T18:21:27.914443Z",
     "shell.execute_reply": "2022-12-30T18:21:27.913401Z",
     "shell.execute_reply.started": "2022-12-30T18:21:27.896456Z"
    }
   },
   "outputs": [
    {
     "data": {
      "text/plain": [
       "0    284315\n",
       "1       492\n",
       "Name: Class, dtype: int64"
      ]
     },
     "execution_count": 5,
     "metadata": {},
     "output_type": "execute_result"
    }
   ],
   "source": [
    "df['Class'].value_counts()"
   ]
  },
  {
   "cell_type": "code",
   "execution_count": 6,
   "metadata": {
    "execution": {
     "iopub.execute_input": "2022-12-30T18:21:27.915907Z",
     "iopub.status.busy": "2022-12-30T18:21:27.915609Z",
     "iopub.status.idle": "2022-12-30T18:21:27.933584Z",
     "shell.execute_reply": "2022-12-30T18:21:27.932275Z",
     "shell.execute_reply.started": "2022-12-30T18:21:27.915880Z"
    }
   },
   "outputs": [
    {
     "data": {
      "text/plain": [
       "0    0.998273\n",
       "1    0.001727\n",
       "Name: Class, dtype: float64"
      ]
     },
     "execution_count": 6,
     "metadata": {},
     "output_type": "execute_result"
    }
   ],
   "source": [
    "df['Class'].value_counts()/df['Class'].value_counts().sum()"
   ]
  },
  {
   "cell_type": "markdown",
   "metadata": {},
   "source": [
    "Class 0 - Non fraudalent cases are 99%\n",
    "\n",
    "Class 1 - Fraudalent cases are 0.01%\n",
    "\n",
    "That is the dataset is an imbalanced data set."
   ]
  },
  {
   "cell_type": "markdown",
   "metadata": {},
   "source": [
    "#### Find Correlation between features and target"
   ]
  },
  {
   "cell_type": "code",
   "execution_count": 7,
   "metadata": {
    "execution": {
     "iopub.execute_input": "2022-12-30T18:21:27.935347Z",
     "iopub.status.busy": "2022-12-30T18:21:27.934968Z",
     "iopub.status.idle": "2022-12-30T18:21:27.955011Z",
     "shell.execute_reply": "2022-12-30T18:21:27.953920Z",
     "shell.execute_reply.started": "2022-12-30T18:21:27.935302Z"
    }
   },
   "outputs": [
    {
     "data": {
      "text/plain": [
       "array([[ 1.        , -0.32648107],\n",
       "       [-0.32648107,  1.        ]])"
      ]
     },
     "execution_count": 7,
     "metadata": {},
     "output_type": "execute_result"
    }
   ],
   "source": [
    "np.corrcoef(df['V17'], df['Class'])"
   ]
  },
  {
   "cell_type": "code",
   "execution_count": 8,
   "metadata": {
    "execution": {
     "iopub.execute_input": "2022-12-30T18:21:27.957514Z",
     "iopub.status.busy": "2022-12-30T18:21:27.957022Z",
     "iopub.status.idle": "2022-12-30T18:21:28.888927Z",
     "shell.execute_reply": "2022-12-30T18:21:28.887577Z",
     "shell.execute_reply.started": "2022-12-30T18:21:27.957464Z"
    }
   },
   "outputs": [
    {
     "data": {
      "text/plain": [
       "<BarContainer object of 30 artists>"
      ]
     },
     "execution_count": 8,
     "metadata": {},
     "output_type": "execute_result"
    },
    {
     "data": {
      "image/png": "[encoded data removed]",
      "text/plain": [
       "<Figure size 1152x720 with 1 Axes>"
      ]
     },
     "metadata": {
      "needs_background": "light"
     },
     "output_type": "display_data"
    }
   ],
   "source": [
    "cols = df.describe().transpose().index\n",
    "cols=cols.tolist()\n",
    "cols.remove('Class')\n",
    "corr_values=[]\n",
    "for i in cols:\n",
    "    corr_values.append(np.corrcoef(df[i], df['Class'])[0,1])\n",
    "corr_values.sort()\n",
    "fig,ax=plt.subplots(figsize=(16,10))\n",
    "ax.barh(cols,corr_values)"
   ]
  },
  {
   "cell_type": "markdown",
   "metadata": {},
   "source": [
    "Considering the features V14, v15, v16, v17, v18, v19 are not correlated to target feature, remove from the dataframe."
   ]
  },
  {
   "cell_type": "code",
   "execution_count": 9,
   "metadata": {
    "execution": {
     "iopub.execute_input": "2022-12-30T18:21:28.892847Z",
     "iopub.status.busy": "2022-12-30T18:21:28.892494Z",
     "iopub.status.idle": "2022-12-30T18:21:28.897544Z",
     "shell.execute_reply": "2022-12-30T18:21:28.895890Z",
     "shell.execute_reply.started": "2022-12-30T18:21:28.892818Z"
    }
   },
   "outputs": [],
   "source": [
    "list1= ['V14','V15','V16','V17','V18', 'V19']"
   ]
  },
  {
   "cell_type": "code",
   "execution_count": 10,
   "metadata": {
    "execution": {
     "iopub.execute_input": "2022-12-30T18:21:28.900081Z",
     "iopub.status.busy": "2022-12-30T18:21:28.899208Z",
     "iopub.status.idle": "2022-12-30T18:21:29.777100Z",
     "shell.execute_reply": "2022-12-30T18:21:29.775818Z",
     "shell.execute_reply.started": "2022-12-30T18:21:28.900025Z"
    }
   },
   "outputs": [],
   "source": [
    "from sklearn.model_selection import train_test_split\n",
    "from sklearn.linear_model import LogisticRegression\n",
    "from sklearn.ensemble import GradientBoostingClassifier\n",
    "from imblearn.over_sampling import SMOTE\n",
    "from imblearn.under_sampling import RandomUnderSampler\n",
    "import warnings\n",
    "warnings.filterwarnings(\"ignore\")\n",
    "from collections import Counter\n",
    "from sklearn.metrics import recall_score,confusion_matrix,classification_report"
   ]
  },
  {
   "cell_type": "code",
   "execution_count": 11,
   "metadata": {
    "execution": {
     "iopub.execute_input": "2022-12-30T18:21:29.779444Z",
     "iopub.status.busy": "2022-12-30T18:21:29.778676Z",
     "iopub.status.idle": "2022-12-30T18:21:29.839512Z",
     "shell.execute_reply": "2022-12-30T18:21:29.838165Z",
     "shell.execute_reply.started": "2022-12-30T18:21:29.779402Z"
    }
   },
   "outputs": [],
   "source": [
    "X=df.drop(['Class'], axis=1)\n",
    "X.drop(list1, axis=1, inplace=True)\n",
    "y=df['Class']"
   ]
  },
  {
   "cell_type": "markdown",
   "metadata": {},
   "source": [
    "#### Model creation before Resampling:"
   ]
  },
  {
   "cell_type": "code",
   "execution_count": 12,
   "metadata": {
    "execution": {
     "iopub.execute_input": "2022-12-30T18:21:29.843076Z",
     "iopub.status.busy": "2022-12-30T18:21:29.842584Z",
     "iopub.status.idle": "2022-12-30T18:21:29.943652Z",
     "shell.execute_reply": "2022-12-30T18:21:29.942312Z",
     "shell.execute_reply.started": "2022-12-30T18:21:29.843032Z"
    }
   },
   "outputs": [],
   "source": [
    "X_train,X_test,y_train,y_test = train_test_split(X,y,test_size=0.3,random_state=23)"
   ]
  },
  {
   "cell_type": "code",
   "execution_count": 13,
   "metadata": {
    "execution": {
     "iopub.execute_input": "2022-12-30T18:21:29.946137Z",
     "iopub.status.busy": "2022-12-30T18:21:29.945062Z",
     "iopub.status.idle": "2022-12-30T18:21:33.737381Z",
     "shell.execute_reply": "2022-12-30T18:21:33.735790Z",
     "shell.execute_reply.started": "2022-12-30T18:21:29.946103Z"
    }
   },
   "outputs": [
    {
     "data": {
      "text/plain": [
       "LogisticRegression()"
      ]
     },
     "execution_count": 13,
     "metadata": {},
     "output_type": "execute_result"
    }
   ],
   "source": [
    "lgr = LogisticRegression()\n",
    "lgr.fit(X_train, y_train)"
   ]
  },
  {
   "cell_type": "code",
   "execution_count": 14,
   "metadata": {
    "execution": {
     "iopub.execute_input": "2022-12-30T18:21:33.750058Z",
     "iopub.status.busy": "2022-12-30T18:21:33.745337Z",
     "iopub.status.idle": "2022-12-30T18:21:33.764271Z",
     "shell.execute_reply": "2022-12-30T18:21:33.762476Z",
     "shell.execute_reply.started": "2022-12-30T18:21:33.749971Z"
    }
   },
   "outputs": [],
   "source": [
    "y_pred=lgr.predict(X_test)"
   ]
  },
  {
   "cell_type": "code",
   "execution_count": 15,
   "metadata": {
    "execution": {
     "iopub.execute_input": "2022-12-30T18:21:33.768269Z",
     "iopub.status.busy": "2022-12-30T18:21:33.766956Z",
     "iopub.status.idle": "2022-12-30T18:21:33.965695Z",
     "shell.execute_reply": "2022-12-30T18:21:33.964432Z",
     "shell.execute_reply.started": "2022-12-30T18:21:33.768193Z"
    }
   },
   "outputs": [
    {
     "name": "stdout",
     "output_type": "stream",
     "text": [
      "              precision    recall  f1-score   support\n",
      "\n",
      "           0       1.00      1.00      1.00     85304\n",
      "           1       0.62      0.55      0.59       139\n",
      "\n",
      "    accuracy                           1.00     85443\n",
      "   macro avg       0.81      0.78      0.79     85443\n",
      "weighted avg       1.00      1.00      1.00     85443\n",
      "\n"
     ]
    }
   ],
   "source": [
    "print(classification_report(y_test, y_pred))"
   ]
  },
  {
   "cell_type": "markdown",
   "metadata": {},
   "source": [
    "### Resampling:\n",
    "In our dataset, the value counts are {0: 284315, 1: 492}\n",
    "\n",
    "1. UnderSampling:\n",
    "\n",
    "We will reduce the class 0 counts decreased from 284315 to 492\n",
    "\n",
    "2. OverSampling:\n",
    "\n",
    "We will increase  the class 0 counts increases from 492 to 284315\n"
   ]
  },
  {
   "cell_type": "markdown",
   "metadata": {},
   "source": [
    "#### Random Under-Sampling: "
   ]
  },
  {
   "cell_type": "code",
   "execution_count": 16,
   "metadata": {
    "execution": {
     "iopub.execute_input": "2022-12-30T18:21:33.967554Z",
     "iopub.status.busy": "2022-12-30T18:21:33.967154Z",
     "iopub.status.idle": "2022-12-30T18:21:34.092297Z",
     "shell.execute_reply": "2022-12-30T18:21:34.091401Z",
     "shell.execute_reply.started": "2022-12-30T18:21:33.967512Z"
    }
   },
   "outputs": [
    {
     "name": "stdout",
     "output_type": "stream",
     "text": [
      "original dataset shape: Counter({0: 284315, 1: 492})\n",
      "Resample dataset shape Counter({0: 492, 1: 492})\n"
     ]
    }
   ],
   "source": [
    "rus = RandomUnderSampler(random_state=42, replacement=False)# fit predictor and target variable\n",
    "x_rus, y_rus = rus.fit_resample(X, y)\n",
    "\n",
    "print('original dataset shape:', Counter(y))\n",
    "print('Resample dataset shape', Counter(y_rus))"
   ]
  },
  {
   "cell_type": "code",
   "execution_count": 17,
   "metadata": {
    "execution": {
     "iopub.execute_input": "2022-12-30T18:21:34.094168Z",
     "iopub.status.busy": "2022-12-30T18:21:34.093641Z",
     "iopub.status.idle": "2022-12-30T18:21:34.101200Z",
     "shell.execute_reply": "2022-12-30T18:21:34.100257Z",
     "shell.execute_reply.started": "2022-12-30T18:21:34.094135Z"
    }
   },
   "outputs": [],
   "source": [
    "X_train,X_test,y_train,y_test = train_test_split(x_rus,y_rus,test_size=0.3,random_state=3)"
   ]
  },
  {
   "cell_type": "code",
   "execution_count": 18,
   "metadata": {
    "execution": {
     "iopub.execute_input": "2022-12-30T18:21:34.102777Z",
     "iopub.status.busy": "2022-12-30T18:21:34.102339Z",
     "iopub.status.idle": "2022-12-30T18:21:34.154375Z",
     "shell.execute_reply": "2022-12-30T18:21:34.152702Z",
     "shell.execute_reply.started": "2022-12-30T18:21:34.102747Z"
    }
   },
   "outputs": [],
   "source": [
    "lgr.fit(X_train, y_train)\n",
    "y_pred=lgr.predict(X_test)"
   ]
  },
  {
   "cell_type": "code",
   "execution_count": 19,
   "metadata": {
    "execution": {
     "iopub.execute_input": "2022-12-30T18:21:34.163617Z",
     "iopub.status.busy": "2022-12-30T18:21:34.162312Z",
     "iopub.status.idle": "2022-12-30T18:21:34.193237Z",
     "shell.execute_reply": "2022-12-30T18:21:34.191652Z",
     "shell.execute_reply.started": "2022-12-30T18:21:34.163537Z"
    }
   },
   "outputs": [
    {
     "name": "stdout",
     "output_type": "stream",
     "text": [
      "              precision    recall  f1-score   support\n",
      "\n",
      "           0       0.93      0.94      0.93       157\n",
      "           1       0.93      0.91      0.92       139\n",
      "\n",
      "    accuracy                           0.93       296\n",
      "   macro avg       0.93      0.93      0.93       296\n",
      "weighted avg       0.93      0.93      0.93       296\n",
      "\n"
     ]
    }
   ],
   "source": [
    "print(classification_report(y_test, y_pred))"
   ]
  },
  {
   "cell_type": "markdown",
   "metadata": {},
   "source": [
    "#### Random Over-Sampling:"
   ]
  },
  {
   "cell_type": "code",
   "execution_count": 20,
   "metadata": {
    "execution": {
     "iopub.execute_input": "2022-12-30T18:21:34.202351Z",
     "iopub.status.busy": "2022-12-30T18:21:34.201127Z",
     "iopub.status.idle": "2022-12-30T18:21:34.720098Z",
     "shell.execute_reply": "2022-12-30T18:21:34.718350Z",
     "shell.execute_reply.started": "2022-12-30T18:21:34.202263Z"
    }
   },
   "outputs": [
    {
     "name": "stdout",
     "output_type": "stream",
     "text": [
      "Original dataset shape Counter({0: 284315, 1: 492})\n",
      "Resample dataset shape Counter({0: 284315, 1: 284315})\n"
     ]
    }
   ],
   "source": [
    "from imblearn.over_sampling import RandomOverSampler\n",
    "\n",
    "ros = RandomOverSampler(random_state=42)\n",
    "\n",
    "x_ros, y_ros = ros.fit_resample(X, y)\n",
    "\n",
    "print('Original dataset shape', Counter(y))\n",
    "print('Resample dataset shape', Counter(y_ros))"
   ]
  },
  {
   "cell_type": "code",
   "execution_count": 21,
   "metadata": {
    "execution": {
     "iopub.execute_input": "2022-12-30T18:21:34.722650Z",
     "iopub.status.busy": "2022-12-30T18:21:34.721740Z",
     "iopub.status.idle": "2022-12-30T18:21:34.980710Z",
     "shell.execute_reply": "2022-12-30T18:21:34.979624Z",
     "shell.execute_reply.started": "2022-12-30T18:21:34.722600Z"
    }
   },
   "outputs": [],
   "source": [
    "X_train,X_test,y_train,y_test = train_test_split(x_ros,y_ros,test_size=0.3,random_state=3)"
   ]
  },
  {
   "cell_type": "code",
   "execution_count": 22,
   "metadata": {
    "execution": {
     "iopub.execute_input": "2022-12-30T18:21:34.982255Z",
     "iopub.status.busy": "2022-12-30T18:21:34.981937Z",
     "iopub.status.idle": "2022-12-30T18:21:39.610807Z",
     "shell.execute_reply": "2022-12-30T18:21:39.609172Z",
     "shell.execute_reply.started": "2022-12-30T18:21:34.982226Z"
    }
   },
   "outputs": [],
   "source": [
    "lgr.fit(X_train, y_train)\n",
    "y_pred=lgr.predict(X_test)"
   ]
  },
  {
   "cell_type": "code",
   "execution_count": 23,
   "metadata": {
    "execution": {
     "iopub.execute_input": "2022-12-30T18:21:39.614731Z",
     "iopub.status.busy": "2022-12-30T18:21:39.613516Z",
     "iopub.status.idle": "2022-12-30T18:21:40.035142Z",
     "shell.execute_reply": "2022-12-30T18:21:40.033956Z",
     "shell.execute_reply.started": "2022-12-30T18:21:39.614664Z"
    }
   },
   "outputs": [
    {
     "name": "stdout",
     "output_type": "stream",
     "text": [
      "              precision    recall  f1-score   support\n",
      "\n",
      "           0       0.88      0.93      0.91     85168\n",
      "           1       0.93      0.87      0.90     85421\n",
      "\n",
      "    accuracy                           0.90    170589\n",
      "   macro avg       0.90      0.90      0.90    170589\n",
      "weighted avg       0.90      0.90      0.90    170589\n",
      "\n"
     ]
    }
   ],
   "source": [
    "print(classification_report(y_test, y_pred))"
   ]
  },
  {
   "cell_type": "markdown",
   "metadata": {},
   "source": [
    "#### SMOTE: Synthetic Minority Oversampling Techique\n",
    "It is a oversampling technique."
   ]
  },
  {
   "cell_type": "code",
   "execution_count": 24,
   "metadata": {
    "execution": {
     "iopub.execute_input": "2022-12-30T18:21:40.040379Z",
     "iopub.status.busy": "2022-12-30T18:21:40.039966Z",
     "iopub.status.idle": "2022-12-30T18:21:40.678372Z",
     "shell.execute_reply": "2022-12-30T18:21:40.677086Z",
     "shell.execute_reply.started": "2022-12-30T18:21:40.040345Z"
    }
   },
   "outputs": [
    {
     "name": "stdout",
     "output_type": "stream",
     "text": [
      "Original dataset shape Counter({0: 284315, 1: 492})\n",
      "Resample dataset shape Counter({0: 284315, 1: 284315})\n"
     ]
    }
   ],
   "source": [
    "smote = SMOTE()\n",
    "# fit predictor and target variable\n",
    "x_smote, y_smote = smote.fit_resample(X, y)\n",
    "\n",
    "print('Original dataset shape', Counter(y))\n",
    "print('Resample dataset shape', Counter(y_smote))"
   ]
  },
  {
   "cell_type": "code",
   "execution_count": 25,
   "metadata": {
    "execution": {
     "iopub.execute_input": "2022-12-30T18:21:40.679993Z",
     "iopub.status.busy": "2022-12-30T18:21:40.679659Z",
     "iopub.status.idle": "2022-12-30T18:21:40.956106Z",
     "shell.execute_reply": "2022-12-30T18:21:40.954679Z",
     "shell.execute_reply.started": "2022-12-30T18:21:40.679962Z"
    }
   },
   "outputs": [],
   "source": [
    "X_train,X_test,y_train,y_test = train_test_split(x_smote,y_smote,test_size=0.3,random_state=0)"
   ]
  },
  {
   "cell_type": "code",
   "execution_count": 26,
   "metadata": {
    "execution": {
     "iopub.execute_input": "2022-12-30T18:21:40.964584Z",
     "iopub.status.busy": "2022-12-30T18:21:40.964226Z",
     "iopub.status.idle": "2022-12-30T18:21:47.959257Z",
     "shell.execute_reply": "2022-12-30T18:21:47.957706Z",
     "shell.execute_reply.started": "2022-12-30T18:21:40.964539Z"
    },
    "scrolled": true
   },
   "outputs": [
    {
     "data": {
      "text/plain": [
       "LogisticRegression()"
      ]
     },
     "execution_count": 26,
     "metadata": {},
     "output_type": "execute_result"
    }
   ],
   "source": [
    "lgr.fit(X_train, y_train)"
   ]
  },
  {
   "cell_type": "code",
   "execution_count": 27,
   "metadata": {
    "execution": {
     "iopub.execute_input": "2022-12-30T18:21:47.968000Z",
     "iopub.status.busy": "2022-12-30T18:21:47.966425Z",
     "iopub.status.idle": "2022-12-30T18:21:47.986535Z",
     "shell.execute_reply": "2022-12-30T18:21:47.984916Z",
     "shell.execute_reply.started": "2022-12-30T18:21:47.967950Z"
    }
   },
   "outputs": [],
   "source": [
    "y_pred = lgr.predict(X_test)"
   ]
  },
  {
   "cell_type": "code",
   "execution_count": 28,
   "metadata": {
    "execution": {
     "iopub.execute_input": "2022-12-30T18:21:47.989514Z",
     "iopub.status.busy": "2022-12-30T18:21:47.988715Z",
     "iopub.status.idle": "2022-12-30T18:21:48.407703Z",
     "shell.execute_reply": "2022-12-30T18:21:48.406418Z",
     "shell.execute_reply.started": "2022-12-30T18:21:47.989473Z"
    }
   },
   "outputs": [
    {
     "name": "stdout",
     "output_type": "stream",
     "text": [
      "              precision    recall  f1-score   support\n",
      "\n",
      "           0       0.95      0.96      0.96     85172\n",
      "           1       0.96      0.95      0.96     85417\n",
      "\n",
      "    accuracy                           0.96    170589\n",
      "   macro avg       0.96      0.96      0.96    170589\n",
      "weighted avg       0.96      0.96      0.96    170589\n",
      "\n"
     ]
    }
   ],
   "source": [
    "print(classification_report(y_test, y_pred))"
   ]
  },
  {
   "cell_type": "markdown",
   "metadata": {},
   "source": [
    "#### Model selection\n",
    "\n",
    "Performing Gradient boosting algorithm to predict the output using smote oversampling."
   ]
  },
  {
   "cell_type": "code",
   "execution_count": 31,
   "metadata": {
    "execution": {
     "iopub.execute_input": "2022-12-30T18:21:48.410400Z",
     "iopub.status.busy": "2022-12-30T18:21:48.409585Z",
     "iopub.status.idle": "2022-12-30T18:24:48.689175Z",
     "shell.execute_reply": "2022-12-30T18:24:48.687867Z",
     "shell.execute_reply.started": "2022-12-30T18:21:48.410353Z"
    }
   },
   "outputs": [],
   "source": [
    "GBR = GradientBoostingClassifier(n_estimators=50,  max_depth=2).fit(X_train, y_train)"
   ]
  },
  {
   "cell_type": "code",
   "execution_count": 32,
   "metadata": {
    "execution": {
     "iopub.execute_input": "2022-12-30T18:24:48.691397Z",
     "iopub.status.busy": "2022-12-30T18:24:48.690906Z",
     "iopub.status.idle": "2022-12-30T18:24:48.952724Z",
     "shell.execute_reply": "2022-12-30T18:24:48.951595Z",
     "shell.execute_reply.started": "2022-12-30T18:24:48.691350Z"
    }
   },
   "outputs": [
    {
     "data": {
      "text/plain": [
       "0.9857819331242204"
      ]
     },
     "execution_count": 32,
     "metadata": {},
     "output_type": "execute_result"
    }
   ],
   "source": [
    "y_pred=GBR.predict(X_test)\n",
    "recall_score(y_pred,y_test)"
   ]
  },
  {
   "cell_type": "code",
   "execution_count": 33,
   "metadata": {
    "execution": {
     "iopub.execute_input": "2022-12-30T18:24:48.954745Z",
     "iopub.status.busy": "2022-12-30T18:24:48.954363Z",
     "iopub.status.idle": "2022-12-30T18:24:49.320823Z",
     "shell.execute_reply": "2022-12-30T18:24:49.319438Z",
     "shell.execute_reply.started": "2022-12-30T18:24:48.954717Z"
    }
   },
   "outputs": [
    {
     "name": "stdout",
     "output_type": "stream",
     "text": [
      "              precision    recall  f1-score   support\n",
      "\n",
      "           0       0.95      0.99      0.97     85172\n",
      "           1       0.99      0.95      0.97     85417\n",
      "\n",
      "    accuracy                           0.97    170589\n",
      "   macro avg       0.97      0.97      0.97    170589\n",
      "weighted avg       0.97      0.97      0.97    170589\n",
      "\n"
     ]
    }
   ],
   "source": [
    "print(classification_report(y_test, y_pred))"
   ]
  }
 ],
 "metadata": {
  "kernelspec": {
   "display_name": "Python 3",
   "language": "python",
   "name": "python3"
  },
  "language_info": {
   "codemirror_mode": {
    "name": "ipython",
    "version": 3
   },
   "file_extension": ".py",
   "mimetype": "text/x-python",
   "name": "python",
   "nbconvert_exporter": "python",
   "pygments_lexer": "ipython3",
   "version": "3.8.3"
  }
 },
 "nbformat": 4,
 "nbformat_minor": 5
}
